{
 "cells": [
  {
   "cell_type": "markdown",
   "id": "cdf825ea",
   "metadata": {},
   "source": [
    "# Amazon Alexa Reviews Sentiment Analysis\n",
    "It is a classification model to predict the sentiment either (1 or 0) based on Amazon Alexa reviews"
   ]
  },
  {
   "cell_type": "code",
   "execution_count": 1,
   "id": "662795f8",
   "metadata": {},
   "outputs": [],
   "source": [
    "#Importing Libraries\n",
    "import pandas as pd\n",
    "import numpy as np\n",
    "import matplotlib.pyplot as plt\n",
    "import seaborn as sns\n",
    "import re\n",
    "from nltk.tokenize import word_tokenize\n",
    "from nltk.stem import PorterStemmer\n",
    "from nltk.corpus import stopwords\n",
    "stop_words = set(stopwords.words('english'))"
   ]
  },
  {
   "cell_type": "markdown",
   "id": "42b92155",
   "metadata": {},
   "source": [
    "## 1) Read the dataset"
   ]
  },
  {
   "cell_type": "code",
   "execution_count": 2,
   "id": "c6ddaf8c",
   "metadata": {
    "scrolled": true
   },
   "outputs": [
    {
     "data": {
      "text/html": [
       "<div>\n",
       "<style scoped>\n",
       "    .dataframe tbody tr th:only-of-type {\n",
       "        vertical-align: middle;\n",
       "    }\n",
       "\n",
       "    .dataframe tbody tr th {\n",
       "        vertical-align: top;\n",
       "    }\n",
       "\n",
       "    .dataframe thead th {\n",
       "        text-align: right;\n",
       "    }\n",
       "</style>\n",
       "<table border=\"1\" class=\"dataframe\">\n",
       "  <thead>\n",
       "    <tr style=\"text-align: right;\">\n",
       "      <th></th>\n",
       "      <th>rating</th>\n",
       "      <th>date</th>\n",
       "      <th>variation</th>\n",
       "      <th>verified_reviews</th>\n",
       "      <th>feedback</th>\n",
       "    </tr>\n",
       "  </thead>\n",
       "  <tbody>\n",
       "    <tr>\n",
       "      <th>0</th>\n",
       "      <td>5</td>\n",
       "      <td>31-Jul-18</td>\n",
       "      <td>Charcoal Fabric</td>\n",
       "      <td>Love my Echo!</td>\n",
       "      <td>1</td>\n",
       "    </tr>\n",
       "    <tr>\n",
       "      <th>1</th>\n",
       "      <td>5</td>\n",
       "      <td>31-Jul-18</td>\n",
       "      <td>Charcoal Fabric</td>\n",
       "      <td>Loved it!</td>\n",
       "      <td>1</td>\n",
       "    </tr>\n",
       "    <tr>\n",
       "      <th>2</th>\n",
       "      <td>4</td>\n",
       "      <td>31-Jul-18</td>\n",
       "      <td>Walnut Finish</td>\n",
       "      <td>Sometimes while playing a game, you can answer...</td>\n",
       "      <td>1</td>\n",
       "    </tr>\n",
       "    <tr>\n",
       "      <th>3</th>\n",
       "      <td>5</td>\n",
       "      <td>31-Jul-18</td>\n",
       "      <td>Charcoal Fabric</td>\n",
       "      <td>I have had a lot of fun with this thing. My 4 ...</td>\n",
       "      <td>1</td>\n",
       "    </tr>\n",
       "    <tr>\n",
       "      <th>4</th>\n",
       "      <td>5</td>\n",
       "      <td>31-Jul-18</td>\n",
       "      <td>Charcoal Fabric</td>\n",
       "      <td>Music</td>\n",
       "      <td>1</td>\n",
       "    </tr>\n",
       "  </tbody>\n",
       "</table>\n",
       "</div>"
      ],
      "text/plain": [
       "   rating       date         variation  \\\n",
       "0       5  31-Jul-18  Charcoal Fabric    \n",
       "1       5  31-Jul-18  Charcoal Fabric    \n",
       "2       4  31-Jul-18    Walnut Finish    \n",
       "3       5  31-Jul-18  Charcoal Fabric    \n",
       "4       5  31-Jul-18  Charcoal Fabric    \n",
       "\n",
       "                                    verified_reviews  feedback  \n",
       "0                                      Love my Echo!         1  \n",
       "1                                          Loved it!         1  \n",
       "2  Sometimes while playing a game, you can answer...         1  \n",
       "3  I have had a lot of fun with this thing. My 4 ...         1  \n",
       "4                                              Music         1  "
      ]
     },
     "execution_count": 2,
     "metadata": {},
     "output_type": "execute_result"
    }
   ],
   "source": [
    "data=pd.read_csv('amazon_alexa.csv')\n",
    "data.head()"
   ]
  },
  {
   "cell_type": "markdown",
   "id": "db29d5d7",
   "metadata": {},
   "source": [
    "## 2) Remove handle null values"
   ]
  },
  {
   "cell_type": "code",
   "execution_count": 3,
   "id": "17e9cc7c",
   "metadata": {},
   "outputs": [
    {
     "data": {
      "text/plain": [
       "rating              0\n",
       "date                0\n",
       "variation           0\n",
       "verified_reviews    0\n",
       "feedback            0\n",
       "dtype: int64"
      ]
     },
     "execution_count": 3,
     "metadata": {},
     "output_type": "execute_result"
    }
   ],
   "source": [
    "data.isnull().sum()"
   ]
  },
  {
   "cell_type": "code",
   "execution_count": 4,
   "id": "5eaf50a9",
   "metadata": {},
   "outputs": [
    {
     "name": "stdout",
     "output_type": "stream",
     "text": [
      "<class 'pandas.core.frame.DataFrame'>\n",
      "RangeIndex: 3150 entries, 0 to 3149\n",
      "Data columns (total 5 columns):\n",
      " #   Column            Non-Null Count  Dtype \n",
      "---  ------            --------------  ----- \n",
      " 0   rating            3150 non-null   int64 \n",
      " 1   date              3150 non-null   object\n",
      " 2   variation         3150 non-null   object\n",
      " 3   verified_reviews  3150 non-null   object\n",
      " 4   feedback          3150 non-null   int64 \n",
      "dtypes: int64(2), object(3)\n",
      "memory usage: 123.2+ KB\n"
     ]
    }
   ],
   "source": [
    "data.info()"
   ]
  },
  {
   "cell_type": "markdown",
   "id": "fef75a05",
   "metadata": {},
   "source": [
    "## 3) Preprocess the Amazon Alexa reviews based on the following parameter:"
   ]
  },
  {
   "cell_type": "code",
   "execution_count": 5,
   "id": "ce6074a5",
   "metadata": {},
   "outputs": [
    {
     "name": "stdout",
     "output_type": "stream",
     "text": [
      "Love my Echo! \n",
      "\n",
      "Loved it! \n",
      "\n",
      "Sometimes while playing a game, you can answer a question correctly but Alexa says you got it wrong and answers the same as you.  I like being able to turn lights on and off while away from home. \n",
      "\n",
      "I have had a lot of fun with this thing. My 4 yr old learns about dinosaurs, i control the lights and play games like categories. Has nice sound when playing music as well. \n",
      "\n",
      "Music \n",
      "\n"
     ]
    }
   ],
   "source": [
    "for i in range(5):\n",
    "    print(data['verified_reviews'].iloc[i],\"\\n\")"
   ]
  },
  {
   "cell_type": "code",
   "execution_count": 6,
   "id": "83229c22",
   "metadata": {},
   "outputs": [],
   "source": [
    "def data_processing(text):\n",
    "    \n",
    "#b) Convert words to lower case\n",
    "    text = text.lower() \n",
    "    \n",
    "#a) Tokenizing words\n",
    "    text_tokens = word_tokenize(text)\n",
    "    \n",
    "#c) Removing Punctuations\n",
    "    text = re.sub(r'[^\\w\\s]','',text)\n",
    "    \n",
    "#d) Removing Stop words\n",
    "    filtered_text = [w for w in text_tokens if not w in stop_words]\n",
    "    \n",
    "    return \" \".join(filtered_text)"
   ]
  },
  {
   "cell_type": "code",
   "execution_count": 7,
   "id": "2bd195c8",
   "metadata": {},
   "outputs": [],
   "source": [
    "data.verified_reviews = data['verified_reviews'].apply(data_processing)"
   ]
  },
  {
   "cell_type": "code",
   "execution_count": 8,
   "id": "36721443",
   "metadata": {},
   "outputs": [],
   "source": [
    "#e) Stemming \n",
    "stemmer = PorterStemmer()\n",
    "def stemming(data):\n",
    "    text = [stemmer.stem(word) for word in data]\n",
    "    return data"
   ]
  },
  {
   "cell_type": "code",
   "execution_count": 9,
   "id": "739baf5c",
   "metadata": {},
   "outputs": [],
   "source": [
    "data['verified_reviews'] = data['verified_reviews'].apply(lambda x: stemming(x))"
   ]
  },
  {
   "cell_type": "code",
   "execution_count": 10,
   "id": "ab5ff82e",
   "metadata": {},
   "outputs": [
    {
     "name": "stdout",
     "output_type": "stream",
     "text": [
      "love echo ! \n",
      "\n",
      "loved ! \n",
      "\n",
      "sometimes playing game , answer question correctly alexa says got wrong answers . like able turn lights away home . \n",
      "\n",
      "lot fun thing . 4 yr old learns dinosaurs , control lights play games like categories . nice sound playing music well . \n",
      "\n",
      "music \n",
      "\n"
     ]
    }
   ],
   "source": [
    "for i in range(5):\n",
    "    print(data['verified_reviews'].iloc[i],\"\\n\")"
   ]
  },
  {
   "cell_type": "markdown",
   "id": "fc8c79f1",
   "metadata": {},
   "source": [
    "## 4) Transform the words into vectors using"
   ]
  },
  {
   "cell_type": "code",
   "execution_count": 11,
   "id": "0561351b",
   "metadata": {},
   "outputs": [],
   "source": [
    "X = data['verified_reviews']\n",
    "Y = data['feedback']\n",
    "\n",
    "#a) Count Vectorizer \n",
    "from sklearn.feature_extraction.text import CountVectorizer\n",
    "cv = CountVectorizer()\n",
    "X = cv.fit_transform(data['verified_reviews'])"
   ]
  },
  {
   "cell_type": "markdown",
   "id": "3f8b5285",
   "metadata": {},
   "source": [
    "## 5) Split data into training and test data"
   ]
  },
  {
   "cell_type": "code",
   "execution_count": 12,
   "id": "5cc8ea84",
   "metadata": {},
   "outputs": [
    {
     "name": "stdout",
     "output_type": "stream",
     "text": [
      "Size of x_train:  (2520, 3961)\n",
      "Size of y_train:  (2520,)\n",
      "Size of x_test:  (630, 3961)\n",
      "Size of y_test:  (630,)\n"
     ]
    }
   ],
   "source": [
    "from sklearn.model_selection import train_test_split\n",
    "x_train, x_test, y_train, y_test = train_test_split(X,Y, test_size=0.2, random_state=42)\n",
    "print(\"Size of x_train: \",(x_train.shape))\n",
    "print(\"Size of y_train: \",(y_train.shape))\n",
    "print(\"Size of x_test: \",(x_test.shape))\n",
    "print(\"Size of y_test: \",(y_test.shape))"
   ]
  },
  {
   "cell_type": "markdown",
   "id": "0edd7c86",
   "metadata": {},
   "source": [
    "## 6) a) Multinomial Naïve Bayes Classification\n"
   ]
  },
  {
   "cell_type": "code",
   "execution_count": 13,
   "id": "f082d534",
   "metadata": {},
   "outputs": [],
   "source": [
    "from sklearn.naive_bayes import MultinomialNB\n",
    "mnb = MultinomialNB()\n",
    "mnb.fit(x_train, y_train)\n",
    "mnb_pred = mnb.predict(x_test)"
   ]
  },
  {
   "cell_type": "code",
   "execution_count": 14,
   "id": "ca0ab0ba",
   "metadata": {},
   "outputs": [
    {
     "name": "stdout",
     "output_type": "stream",
     "text": [
      "Accuracy Score: 91.75%\n",
      "\n",
      "Confusion Matrix:\n",
      " [[ 15  43]\n",
      " [  9 563]]\n",
      "\n",
      "Classification Report:\n",
      "               precision    recall  f1-score   support\n",
      "\n",
      "           0       0.62      0.26      0.37        58\n",
      "           1       0.93      0.98      0.96       572\n",
      "\n",
      "    accuracy                           0.92       630\n",
      "   macro avg       0.78      0.62      0.66       630\n",
      "weighted avg       0.90      0.92      0.90       630\n",
      "\n"
     ]
    }
   ],
   "source": [
    "from sklearn.metrics import accuracy_score, classification_report, confusion_matrix\n",
    "mnb_acc = accuracy_score(mnb_pred, y_test)\n",
    "print('Accuracy Score: {:.2f}%'.format(mnb_acc*100))\n",
    "print('\\nConfusion Matrix:\\n',confusion_matrix(y_test, mnb_pred))\n",
    "print('\\nClassification Report:\\n',classification_report(y_test, mnb_pred))"
   ]
  },
  {
   "cell_type": "markdown",
   "id": "14fc4320",
   "metadata": {},
   "source": [
    "## b) Logistic Regression "
   ]
  },
  {
   "cell_type": "code",
   "execution_count": 15,
   "id": "b8659866",
   "metadata": {},
   "outputs": [],
   "source": [
    "from sklearn.linear_model import LogisticRegression\n",
    "logreg = LogisticRegression()\n",
    "logreg.fit(x_train, y_train)\n",
    "logreg_pred = logreg.predict(x_test)"
   ]
  },
  {
   "cell_type": "code",
   "execution_count": 16,
   "id": "4a382fce",
   "metadata": {},
   "outputs": [
    {
     "name": "stdout",
     "output_type": "stream",
     "text": [
      "Accuracy Score: 93.17%\n",
      "\n",
      "Confusion Matrix:\n",
      " [[ 18  40]\n",
      " [  3 569]]\n",
      "\n",
      "Classification Report:\n",
      "               precision    recall  f1-score   support\n",
      "\n",
      "           0       0.86      0.31      0.46        58\n",
      "           1       0.93      0.99      0.96       572\n",
      "\n",
      "    accuracy                           0.93       630\n",
      "   macro avg       0.90      0.65      0.71       630\n",
      "weighted avg       0.93      0.93      0.92       630\n",
      "\n"
     ]
    }
   ],
   "source": [
    "logreg_acc = accuracy_score(logreg_pred, y_test)\n",
    "print('Accuracy Score: {:.2f}%'.format(logreg_acc*100))\n",
    "print('\\nConfusion Matrix:\\n',confusion_matrix(y_test, logreg_pred))\n",
    "print('\\nClassification Report:\\n',classification_report(y_test, logreg_pred))"
   ]
  },
  {
   "cell_type": "markdown",
   "id": "e5bd2561",
   "metadata": {},
   "source": [
    "## c) KNN Classification"
   ]
  },
  {
   "cell_type": "code",
   "execution_count": 17,
   "id": "2bbd1229",
   "metadata": {},
   "outputs": [],
   "source": [
    "from sklearn.neighbors import KNeighborsClassifier\n",
    "knn = KNeighborsClassifier()\n",
    "knn.fit(x_train,y_train)\n",
    "knn_pred = knn.predict(x_test)"
   ]
  },
  {
   "cell_type": "code",
   "execution_count": 18,
   "id": "b9f98243",
   "metadata": {},
   "outputs": [
    {
     "name": "stdout",
     "output_type": "stream",
     "text": [
      "Accuracy Score: 91.27%\n",
      "\n",
      "Confusion Matrix: [[  5  53]\n",
      " [  2 570]]\n",
      "\n",
      "Classification Report:\n",
      "               precision    recall  f1-score   support\n",
      "\n",
      "           0       0.71      0.09      0.15        58\n",
      "           1       0.91      1.00      0.95       572\n",
      "\n",
      "    accuracy                           0.91       630\n",
      "   macro avg       0.81      0.54      0.55       630\n",
      "weighted avg       0.90      0.91      0.88       630\n",
      "\n"
     ]
    }
   ],
   "source": [
    "knn_acc = accuracy_score(knn_pred, y_test)\n",
    "print('Accuracy Score: {:.2f}%'.format(knn_acc*100))\n",
    "print('\\nConfusion Matrix:',confusion_matrix(y_test,knn_pred))\n",
    "print('\\nClassification Report:\\n',classification_report(y_test,knn_pred))"
   ]
  },
  {
   "cell_type": "markdown",
   "id": "ab9ada19",
   "metadata": {},
   "source": [
    "## 9) Report the model with the best accuracy"
   ]
  },
  {
   "cell_type": "code",
   "execution_count": 19,
   "id": "55308e72",
   "metadata": {},
   "outputs": [
    {
     "data": {
      "image/png": "[encoded data removed]",
      "text/plain": [
       "<Figure size 432x288 with 1 Axes>"
      ]
     },
     "metadata": {
      "needs_background": "light"
     },
     "output_type": "display_data"
    }
   ],
   "source": [
    "plt.bar(x=['mnb','logreg','knn'],height=[mnb_acc,logreg_acc,knn_acc])\n",
    "plt.xlabel(\"Algorithm\")\n",
    "plt.ylabel(\"Accuracy Score\")\n",
    "plt.show()"
   ]
  },
  {
   "cell_type": "code",
   "execution_count": 20,
   "id": "5dbefbbf",
   "metadata": {},
   "outputs": [
    {
     "name": "stdout",
     "output_type": "stream",
     "text": [
      "The model with the best accuracy: Logistic Regression\n"
     ]
    }
   ],
   "source": [
    "print('The model with the best accuracy: Logistic Regression')"
   ]
  }
 ],
 "metadata": {
  "kernelspec": {
   "display_name": "Python 3 (ipykernel)",
   "language": "python",
   "name": "python3"
  },
  "language_info": {
   "codemirror_mode": {
    "name": "ipython",
    "version": 3
   },
   "file_extension": ".py",
   "mimetype": "text/x-python",
   "name": "python",
   "nbconvert_exporter": "python",
   "pygments_lexer": "ipython3",
   "version": "3.9.12"
  }
 },
 "nbformat": 4,
 "nbformat_minor": 5
}
